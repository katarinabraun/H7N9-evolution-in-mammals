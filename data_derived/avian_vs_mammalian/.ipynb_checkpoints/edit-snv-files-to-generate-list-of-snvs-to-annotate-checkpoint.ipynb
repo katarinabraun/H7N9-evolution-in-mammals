{
 "cells": [
  {
   "cell_type": "code",
   "execution_count": 4,
   "metadata": {},
   "outputs": [],
   "source": [
    "import pandas as pd\n",
    "import numpy as np \n",
    "import os\n",
    "from functools import reduce"
   ]
  },
  {
   "cell_type": "code",
   "execution_count": 27,
   "metadata": {},
   "outputs": [],
   "source": [
    "def load_dataframes(path):\n",
    "    filelist = [os.path.splitext(file)[0] for file in os.listdir(path) if file.endswith('.csv')]\n",
    "    list_of_DFs = []\n",
    "    for file in filelist: \n",
    "        DF = path + '/' + file + '.csv'\n",
    "        file = pd.read_csv(DF, header=0, sep='\\t', low_memory=False)\n",
    "        file = file.drop(['Unnamed: 0', 'REF', 'ALT', 'FREQ', '% of population'], 1)\n",
    "        list_of_DFs.append(file)\n",
    "    SNVs = reduce(lambda x, y: pd.concat([x, y], axis=0), list_of_DFs)\n",
    "    SNVs = SNVs.drop_duplicates(subset='SNP', keep=\"first\")\n",
    "    SNVs = SNVs[~SNVs.SNP.str.contains(\"_syn\")]\n",
    "    SNVs = SNVs.sort_values(['gene', 'POS'], ascending=[True, True])\n",
    "    SNVs = SNVs.drop(['gene', 'POS'], 1)\n",
    "    print(filelist)\n",
    "    return(SNVs)"
   ]
  },
  {
   "cell_type": "code",
   "execution_count": 28,
   "metadata": {},
   "outputs": [
    {
     "name": "stdout",
     "output_type": "stream",
     "text": [
      "['GD3_ferret5_day5-cleaned', 'Anhui_ferret29_day3-cleaned', 'Anhui_ferret28_day5-cleaned', 'GD3_ferret7_day1-cleaned', 'Anhui_ferret25_day1-cleaned', 'GD3_ferret3_day1-cleaned', 'Anhui_ferret27_day5-cleaned', 'GD3_ferret1_day5-cleaned', 'Anhui_ferret31_day1-cleaned', 'GD3_ferret4_day5-cleaned', 'GD3_ferret4_day11-cleaned', 'GD3_ferret5_day3-cleaned', 'Anhui_ferret29_day5-cleaned', 'Anhui_ferret28_day3-cleaned', 'GD3_ferret7_day7-cleaned', 'GD3_ferret4_day9-cleaned', 'Anhui_ferret25_day7-cleaned', 'GD3_ferret3_day7-cleaned', 'Anhui_ferret27_day3-cleaned', 'GD3_ferret1_day3-cleaned', 'GD3_ferret5_day1-cleaned', 'GD3_ferret4_day7-cleaned', 'GD3_ferret7_day5-cleaned', 'Anhui_ferret29_day7-cleaned', 'GD3_ferret3_day5-cleaned', 'Anhui_ferret25_day5-cleaned', 'Anhui_ferret31_day5-cleaned', 'GD3_ferret1_day1-cleaned', 'Anhui_ferret27_day1-cleaned', 'GD3_ferret5_day7-cleaned', 'Anhui_ferret28_day7-cleaned', 'GD3_ferret7_day3-cleaned', 'Anhui_ferret29_day1-cleaned', 'GD3_ferret3_day3-cleaned', 'Anhui_ferret25_day3-cleaned', 'GD3_ferret1_day7-cleaned', 'Anhui_ferret27_day7-cleaned', 'Anhui_ferret31_day3-cleaned']\n"
     ]
    }
   ],
   "source": [
    "SNV_list = load_dataframes('/Users/katbraun/Documents/research/kat_braun/projects/H7N9_transmission-bottlenecks/H7N9-evolution-in-mammals/data_derived/avian_vs_mammalian/')\n",
    "\n",
    "\n",
    "##"
   ]
  },
  {
   "cell_type": "code",
   "execution_count": 30,
   "metadata": {},
   "outputs": [],
   "source": [
    "SNV_list.to_csv('/Users/katbraun/Documents/research/kat_braun/projects/H7N9_transmission-bottlenecks/H7N9-evolution-in-mammals/data_derived/avian_vs_mammalian/SNV_list.csv', sep=',')\n",
    "\n",
    "##"
   ]
  },
  {
   "cell_type": "code",
   "execution_count": null,
   "metadata": {},
   "outputs": [],
   "source": []
  }
 ],
 "metadata": {
  "kernelspec": {
   "display_name": "Python 3",
   "language": "python",
   "name": "python3"
  },
  "language_info": {
   "codemirror_mode": {
    "name": "ipython",
    "version": 3
   },
   "file_extension": ".py",
   "mimetype": "text/x-python",
   "name": "python",
   "nbconvert_exporter": "python",
   "pygments_lexer": "ipython3",
   "version": "3.6.8"
  }
 },
 "nbformat": 4,
 "nbformat_minor": 2
}
