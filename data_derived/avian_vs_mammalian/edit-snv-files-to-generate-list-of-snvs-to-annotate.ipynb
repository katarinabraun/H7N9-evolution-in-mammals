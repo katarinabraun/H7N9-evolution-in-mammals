{
 "cells": [
  {
   "cell_type": "code",
   "execution_count": 1,
   "metadata": {},
   "outputs": [],
   "source": [
    "import pandas as pd\n",
    "import numpy as np \n",
    "import os\n",
    "from functools import reduce"
   ]
  },
  {
   "cell_type": "code",
   "execution_count": 85,
   "metadata": {},
   "outputs": [],
   "source": [
    "def load_dataframes(path):\n",
    "    filelist = [os.path.splitext(file)[0] for file in os.listdir(path) if file.endswith('.csv')]\n",
    "    list_of_DFs = []\n",
    "    for file in filelist: \n",
    "        DF = path + '/' + file + '.csv'\n",
    "        file = pd.read_csv(DF, header=0, sep='\\t', low_memory=False)\n",
    "        file = file.drop(['Unnamed: 0', 'REF', 'FREQ', 'ALT', '% of population'], 1)\n",
    "        list_of_DFs.append(file)\n",
    "    SNVs = reduce(lambda x, y: pd.concat([x, y], axis=0), list_of_DFs)\n",
    "    SNVs = SNVs.drop_duplicates(subset='SNP', keep=\"first\")\n",
    "    SNVs = SNVs[~SNVs.SNP.str.contains(\"_syn\")]\n",
    "    SNVs = SNVs.sort_values(['gene', 'POS'], ascending=[True, True])\n",
    "    SNVs = SNVs.drop(['gene', 'POS'], 1)\n",
    "    print(filelist)\n",
    "    return(SNVs)"
   ]
  },
  {
   "cell_type": "code",
   "execution_count": 86,
   "metadata": {
    "scrolled": true
   },
   "outputs": [
    {
     "name": "stdout",
     "output_type": "stream",
     "text": [
      "['GD3_ferret5_day5-cleaned', 'Anhui_ferret29_day3-cleaned', 'Anhui_ferret28_day5-cleaned', 'GD3_ferret7_day1-cleaned', 'Anhui_ferret25_day1-cleaned', 'GD3_ferret3_day1-cleaned', 'Anhui_ferret27_day5-cleaned', 'GD3_ferret1_day5-cleaned', 'Anhui_ferret31_day1-cleaned', 'GD3_ferret4_day5-cleaned', 'GD3_ferret4_day11-cleaned', 'GD3_ferret5_day3-cleaned', 'Anhui_ferret29_day5-cleaned', 'Anhui_ferret28_day3-cleaned', 'GD3_ferret7_day7-cleaned', 'GD3_ferret4_day9-cleaned', 'Anhui_ferret25_day7-cleaned', 'GD3_ferret3_day7-cleaned', 'Anhui_ferret27_day3-cleaned', 'GD3_ferret1_day3-cleaned', 'GD3_ferret5_day1-cleaned', 'GD3_ferret4_day7-cleaned', 'GD3_ferret7_day5-cleaned', 'Anhui_ferret29_day7-cleaned', 'GD3_ferret3_day5-cleaned', 'Anhui_ferret25_day5-cleaned', 'Anhui_ferret31_day5-cleaned', 'GD3_ferret1_day1-cleaned', 'Anhui_ferret27_day1-cleaned', 'GD3_ferret5_day7-cleaned', 'Anhui_ferret28_day7-cleaned', 'GD3_ferret7_day3-cleaned', 'Anhui_ferret29_day1-cleaned', 'GD3_ferret3_day3-cleaned', 'Anhui_ferret25_day3-cleaned', 'GD3_ferret1_day7-cleaned', 'Anhui_ferret27_day7-cleaned', 'Anhui_ferret31_day3-cleaned']\n"
     ]
    }
   ],
   "source": [
    "SNV_list = load_dataframes('/Users/katbraun/Documents/research/kat_braun/projects/H7N9_transmission-bottlenecks/H7N9-evolution-in-mammals/data_derived/avian_vs_mammalian/cleaned_csvs')\n",
    "\n",
    "\n",
    "##"
   ]
  },
  {
   "cell_type": "code",
   "execution_count": 87,
   "metadata": {},
   "outputs": [],
   "source": [
    "SNV_list.to_csv('/Users/katbraun/Documents/research/kat_braun/projects/H7N9_transmission-bottlenecks/H7N9-evolution-in-mammals/data_derived/avian_vs_mammalian/SNV_list.csv', sep=',')\n",
    "\n",
    "##"
   ]
  },
  {
   "cell_type": "code",
   "execution_count": 88,
   "metadata": {},
   "outputs": [],
   "source": [
    "## generate the average SNV frequency per SNV to include in this dataframe\n",
    "## I need to include this to plot the y axis of figure 8\n",
    "\n",
    "def load_dataframes_avgfreq(path):\n",
    "    filelist = [os.path.splitext(file)[0] for file in os.listdir(path) if file.endswith('.csv')]\n",
    "    list_of_DFs = []\n",
    "    for file in filelist: \n",
    "        DF = path + '/' + file + '.csv'\n",
    "        file = pd.read_csv(DF, header=0, sep='\\t', low_memory=False)\n",
    "        file = file.drop(['Unnamed: 0', 'REF', 'ALT', '% of population'], 1)\n",
    "        list_of_DFs.append(file)\n",
    "    SNVs = reduce(lambda x, y: pd.concat([x, y], axis=0), list_of_DFs)\n",
    "#     SNVs = SNVs.drop_duplicates(subset='SNP', keep=\"first\")\n",
    "#     SNVs = SNVs[~SNVs.SNP.str.contains(\"_syn\")]\n",
    "    SNVs = SNVs.sort_values(['gene', 'POS'], ascending=[True, True])\n",
    "    SNVs = SNVs.drop(['gene', 'POS'], 1)\n",
    "    print(filelist)\n",
    "    return(SNVs)"
   ]
  },
  {
   "cell_type": "code",
   "execution_count": 89,
   "metadata": {},
   "outputs": [
    {
     "name": "stdout",
     "output_type": "stream",
     "text": [
      "['GD3_ferret5_day5-cleaned', 'Anhui_ferret29_day3-cleaned', 'Anhui_ferret28_day5-cleaned', 'GD3_ferret7_day1-cleaned', 'Anhui_ferret25_day1-cleaned', 'GD3_ferret3_day1-cleaned', 'Anhui_ferret27_day5-cleaned', 'GD3_ferret1_day5-cleaned', 'Anhui_ferret31_day1-cleaned', 'GD3_ferret4_day5-cleaned', 'GD3_ferret4_day11-cleaned', 'GD3_ferret5_day3-cleaned', 'Anhui_ferret29_day5-cleaned', 'Anhui_ferret28_day3-cleaned', 'GD3_ferret7_day7-cleaned', 'GD3_ferret4_day9-cleaned', 'Anhui_ferret25_day7-cleaned', 'GD3_ferret3_day7-cleaned', 'Anhui_ferret27_day3-cleaned', 'GD3_ferret1_day3-cleaned', 'GD3_ferret5_day1-cleaned', 'GD3_ferret4_day7-cleaned', 'GD3_ferret7_day5-cleaned', 'Anhui_ferret29_day7-cleaned', 'GD3_ferret3_day5-cleaned', 'Anhui_ferret25_day5-cleaned', 'Anhui_ferret31_day5-cleaned', 'GD3_ferret1_day1-cleaned', 'Anhui_ferret27_day1-cleaned', 'GD3_ferret5_day7-cleaned', 'Anhui_ferret28_day7-cleaned', 'GD3_ferret7_day3-cleaned', 'Anhui_ferret29_day1-cleaned', 'GD3_ferret3_day3-cleaned', 'Anhui_ferret25_day3-cleaned', 'GD3_ferret1_day7-cleaned', 'Anhui_ferret27_day7-cleaned', 'Anhui_ferret31_day3-cleaned']\n"
     ]
    }
   ],
   "source": [
    "SNV_list_avg_freq = load_dataframes_avgfreq('/Users/katbraun/Documents/research/kat_braun/projects/H7N9_transmission-bottlenecks/H7N9-evolution-in-mammals/data_derived/avian_vs_mammalian/cleaned_csvs')\n",
    "SNV_list_avg_freq['average_freq'] = SNV_list_avg_freq.groupby('SNP')['FREQ'].transform('mean')\n",
    "SNV_list_avg_freq = SNV_list_avg_freq.drop_duplicates(subset='SNP', keep=\"first\")\n",
    "\n",
    "# SNV_list_avg_freq\n",
    "\n",
    "##"
   ]
  },
  {
   "cell_type": "code",
   "execution_count": 90,
   "metadata": {},
   "outputs": [],
   "source": [
    "avian_or_mammalian = pd.read_csv('avian_mammalian_SNVs_for_pandas.csv', header=0, sep=',', low_memory=False)\n",
    "avian_or_mammalian = avian_or_mammalian.rename(columns={'SNPs': 'SNP'})"
   ]
  },
  {
   "cell_type": "code",
   "execution_count": 91,
   "metadata": {},
   "outputs": [],
   "source": [
    "avian_or_mammalian_final = pd.merge(SNV_list_avg_freq, avian_or_mammalian, on='SNP')\n",
    "# avian_or_mammalian_final"
   ]
  },
  {
   "cell_type": "code",
   "execution_count": 92,
   "metadata": {},
   "outputs": [],
   "source": [
    "# make a list of the mammalian-adaptive SNVs\n",
    "\n",
    "mammalian_adaptive_SNVs = ['PB2_G464A_S155N', 'PB2_A1445G_K482R', 'PB2_A1577G_K526R', 'PB2_G1762A_A588T', 'PB2_C1763T_A588V', 'PB2_A1879G_K627E', 'PB2_G2101A_D701N', 'PA_G130A_V44I', 'PA_A1226G_N409S', 'HA_G427A_A143T', 'HA_T704A_L235Q', 'NP_G97A_V33I', 'NA_A898G_I300V', 'M1_G655A_V219I']\n",
    "\n",
    "##"
   ]
  },
  {
   "cell_type": "code",
   "execution_count": 93,
   "metadata": {},
   "outputs": [],
   "source": [
    "avian_or_mammalian_final.loc[avian_or_mammalian_final.index[200], 'adaptive?'] = \"#F4BB47\"\n",
    "avian_or_mammalian_final.loc[avian_or_mammalian_final.index[215], 'adaptive?'] = \"#F4BB47\"\n",
    "avian_or_mammalian_final.loc[avian_or_mammalian_final.index[216], 'adaptive?'] = \"#F4BB47\"\n",
    "avian_or_mammalian_final.loc[avian_or_mammalian_final.index[220], 'adaptive?'] = \"#F4BB47\"\n",
    "avian_or_mammalian_final.loc[avian_or_mammalian_final.index[221], 'adaptive?'] = \"#F4BB47\"\n",
    "avian_or_mammalian_final.loc[avian_or_mammalian_final.index[222], 'adaptive?'] = \"#F4BB47\"\n",
    "avian_or_mammalian_final.loc[avian_or_mammalian_final.index[228], 'adaptive?'] = \"#F4BB47\"\n",
    "avian_or_mammalian_final.loc[avian_or_mammalian_final.index[121], 'adaptive?'] = \"#F4BB47\"\n",
    "avian_or_mammalian_final.loc[avian_or_mammalian_final.index[140], 'adaptive?'] = \"#F4BB47\"\n",
    "avian_or_mammalian_final.loc[avian_or_mammalian_final.index[8], 'adaptive?'] = \"#F4BB47\"\n",
    "avian_or_mammalian_final.loc[avian_or_mammalian_final.index[23], 'adaptive?'] = \"#F4BB47\"\n",
    "avian_or_mammalian_final.loc[avian_or_mammalian_final.index[71], 'adaptive?'] = \"#F4BB47\"\n",
    "avian_or_mammalian_final.loc[avian_or_mammalian_final.index[247], 'adaptive?'] = \"#F4BB47\"\n",
    "avian_or_mammalian_final.loc[avian_or_mammalian_final.index[43], 'adaptive?'] = \"#F4BB47\""
   ]
  },
  {
   "cell_type": "code",
   "execution_count": 94,
   "metadata": {},
   "outputs": [],
   "source": [
    "avian_or_mammalian_final = avian_or_mammalian_final.replace(np.nan, '', regex=True)"
   ]
  },
  {
   "cell_type": "code",
   "execution_count": 95,
   "metadata": {},
   "outputs": [],
   "source": [
    "avian_or_mammalian_final['adaptive?'] = avian_or_mammalian_final['adaptive?'].replace({'':'#ffffff00'})"
   ]
  },
  {
   "cell_type": "code",
   "execution_count": 96,
   "metadata": {},
   "outputs": [],
   "source": [
    "avian_or_mammalian_final.to_csv('avian_or_mammalian_with_adaptive_SNVs_highlighted.csv')"
   ]
  },
  {
   "cell_type": "code",
   "execution_count": null,
   "metadata": {},
   "outputs": [],
   "source": []
  }
 ],
 "metadata": {
  "kernelspec": {
   "display_name": "Python 3",
   "language": "python",
   "name": "python3"
  },
  "language_info": {
   "codemirror_mode": {
    "name": "ipython",
    "version": 3
   },
   "file_extension": ".py",
   "mimetype": "text/x-python",
   "name": "python",
   "nbconvert_exporter": "python",
   "pygments_lexer": "ipython3",
   "version": "3.6.8"
  }
 },
 "nbformat": 4,
 "nbformat_minor": 2
}
